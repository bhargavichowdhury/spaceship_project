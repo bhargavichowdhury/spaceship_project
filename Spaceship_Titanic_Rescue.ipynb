{
 "cells": [
  {
   "cell_type": "raw",
   "id": "aa05f6a4-d4da-446f-a88f-fed565758de4",
   "metadata": {},
   "source": [
    "# Loading data sets"
   ]
  },
  {
   "cell_type": "code",
   "execution_count": 1,
   "id": "08d76478-948f-48f6-9cb4-6f1ad218f498",
   "metadata": {},
   "outputs": [
    {
     "name": "stdout",
     "output_type": "stream",
     "text": [
      "  PassengerId HomePlanet CryoSleep  Cabin  Destination   Age    VIP  \\\n",
      "0     0001_01     Europa     False  B/0/P  TRAPPIST-1e  39.0  False   \n",
      "1     0002_01      Earth     False  F/0/S  TRAPPIST-1e  24.0  False   \n",
      "2     0003_01     Europa     False  A/0/S  TRAPPIST-1e  58.0   True   \n",
      "3     0003_02     Europa     False  A/0/S  TRAPPIST-1e  33.0  False   \n",
      "4     0004_01      Earth     False  F/1/S  TRAPPIST-1e  16.0  False   \n",
      "\n",
      "   RoomService  FoodCourt  ShoppingMall     Spa  VRDeck               Name  \\\n",
      "0          0.0        0.0           0.0     0.0     0.0    Maham Ofracculy   \n",
      "1        109.0        9.0          25.0   549.0    44.0       Juanna Vines   \n",
      "2         43.0     3576.0           0.0  6715.0    49.0      Altark Susent   \n",
      "3          0.0     1283.0         371.0  3329.0   193.0       Solam Susent   \n",
      "4        303.0       70.0         151.0   565.0     2.0  Willy Santantines   \n",
      "\n",
      "   Transported  \n",
      "0        False  \n",
      "1         True  \n",
      "2        False  \n",
      "3        False  \n",
      "4         True  \n",
      "<class 'pandas.core.frame.DataFrame'>\n",
      "RangeIndex: 8693 entries, 0 to 8692\n",
      "Data columns (total 14 columns):\n",
      " #   Column        Non-Null Count  Dtype  \n",
      "---  ------        --------------  -----  \n",
      " 0   PassengerId   8693 non-null   object \n",
      " 1   HomePlanet    8492 non-null   object \n",
      " 2   CryoSleep     8476 non-null   object \n",
      " 3   Cabin         8494 non-null   object \n",
      " 4   Destination   8511 non-null   object \n",
      " 5   Age           8514 non-null   float64\n",
      " 6   VIP           8490 non-null   object \n",
      " 7   RoomService   8512 non-null   float64\n",
      " 8   FoodCourt     8510 non-null   float64\n",
      " 9   ShoppingMall  8485 non-null   float64\n",
      " 10  Spa           8510 non-null   float64\n",
      " 11  VRDeck        8505 non-null   float64\n",
      " 12  Name          8493 non-null   object \n",
      " 13  Transported   8693 non-null   bool   \n",
      "dtypes: bool(1), float64(6), object(7)\n",
      "memory usage: 891.5+ KB\n",
      "None\n",
      "               Age   RoomService     FoodCourt  ShoppingMall           Spa  \\\n",
      "count  8514.000000   8512.000000   8510.000000   8485.000000   8510.000000   \n",
      "mean     28.827930    224.687617    458.077203    173.729169    311.138778   \n",
      "std      14.489021    666.717663   1611.489240    604.696458   1136.705535   \n",
      "min       0.000000      0.000000      0.000000      0.000000      0.000000   \n",
      "25%      19.000000      0.000000      0.000000      0.000000      0.000000   \n",
      "50%      27.000000      0.000000      0.000000      0.000000      0.000000   \n",
      "75%      38.000000     47.000000     76.000000     27.000000     59.000000   \n",
      "max      79.000000  14327.000000  29813.000000  23492.000000  22408.000000   \n",
      "\n",
      "             VRDeck  \n",
      "count   8505.000000  \n",
      "mean     304.854791  \n",
      "std     1145.717189  \n",
      "min        0.000000  \n",
      "25%        0.000000  \n",
      "50%        0.000000  \n",
      "75%       46.000000  \n",
      "max    24133.000000  \n"
     ]
    }
   ],
   "source": [
    "import pandas as pd\n",
    "\n",
    "# load data\n",
    "train_df=pd.read_csv('train.csv')\n",
    "test_df=pd.read_csv('test.csv')\n",
    "print(train_df.head())\n",
    "print(train_df.info())\n",
    "print(train_df.describe())\n"
   ]
  },
  {
   "cell_type": "code",
   "execution_count": 2,
   "id": "83216c53-03a3-4cec-949c-ba46617853eb",
   "metadata": {},
   "outputs": [],
   "source": [
    "import pandas as pd\n",
    "\n",
    "# Load the dataset\n",
    "train_df = pd.read_csv('train.csv')\n",
    "\n",
    "# Define the columns to fill missing values\n",
    "numerical_columns = ['Age', 'RoomService', 'FoodCourt', 'ShoppingMall', 'Spa', 'VRDeck']\n",
    "categorical_columns = ['HomePlanet', 'CryoSleep', 'Destination', 'VIP', 'Cabin']\n",
    "\n",
    "# Fill missing numerical values with the median\n",
    "for col in numerical_columns:\n",
    "    if col in train_df.columns:\n",
    "        train_df[col].fillna(train_df[col].median(), inplace=True)\n",
    "\n",
    "# Fill missing categorical values with the mode\n",
    "for col in categorical_columns:\n",
    "    if col in train_df.columns:\n",
    "        train_df[col].fillna(train_df[col].mode()[0], inplace=True)\n",
    "\n",
    "# Convert categorical columns to numerical using one-hot encoding\n",
    "train_df = pd.get_dummies(train_df, columns=categorical_columns, drop_first=True)\n",
    "\n",
    "# Drop unnecessary columns\n",
    "train_df.drop(['PassengerId', 'Name'], axis=1, inplace=True)\n",
    "\n",
    "# Separate features and target variable\n",
    "X = train_df.drop('Transported', axis=1)\n",
    "y = train_df['Transported']\n",
    "\n",
    "# Save preprocessed training data\n",
    "X.to_csv('preprocessed_train_X.csv', index=False)\n",
    "y.to_csv('preprocessed_train_y.csv', index=False)\n"
   ]
  },
  {
   "cell_type": "raw",
   "id": "2a7b7f24-bba1-4d3a-92cf-7bac99dc217c",
   "metadata": {},
   "source": [
    "# Random forest classifier"
   ]
  },
  {
   "cell_type": "code",
   "execution_count": 10,
   "id": "4e9001dc-1a54-4228-85a9-2e6440af9b13",
   "metadata": {},
   "outputs": [
    {
     "name": "stdout",
     "output_type": "stream",
     "text": [
      "Random Forest Accuracy: 0.7901092581943646\n"
     ]
    },
    {
     "data": {
      "text/plain": [
       "['random_forest_model.pkl']"
      ]
     },
     "execution_count": 10,
     "metadata": {},
     "output_type": "execute_result"
    }
   ],
   "source": [
    "import pandas as pd\n",
    "from sklearn.model_selection import train_test_split\n",
    "from sklearn.preprocessing import StandardScaler\n",
    "from sklearn.ensemble import RandomForestClassifier\n",
    "from sklearn.metrics import accuracy_score\n",
    "import joblib\n",
    "import matplotlib.pyplot as plt\n",
    "import seaborn as sns\n",
    "\n",
    "# Load preprocessed training data\n",
    "X = pd.read_csv('preprocessed_train_X.csv')\n",
    "y = pd.read_csv('preprocessed_train_y.csv').squeeze()\n",
    "\n",
    "# Split the data into training and validation sets\n",
    "X_train, X_val, y_train, y_val = train_test_split(X, y, test_size=0.2, random_state=42)\n",
    "\n",
    "# Standardize the data\n",
    "scaler = StandardScaler()\n",
    "X_train = scaler.fit_transform(X_train)\n",
    "X_val = scaler.transform(X_val)\n",
    "\n",
    "# Save the scaler\n",
    "joblib.dump(scaler, 'scaler.pkl')\n",
    "\n",
    "# Define the Random Forest classifier\n",
    "random_forest = RandomForestClassifier(random_state=42)\n",
    "\n",
    "# Train the classifier\n",
    "random_forest.fit(X_train, y_train)\n",
    "\n",
    "# Make predictions on the validation set\n",
    "y_pred = random_forest.predict(X_val)\n",
    "\n",
    "# Calculate accuracy\n",
    "accuracy = accuracy_score(y_val, y_pred)\n",
    "print(f\"Random Forest Accuracy: {accuracy}\")\n",
    "\n",
    "# Save the model\n",
    "joblib.dump(random_forest, 'random_forest_model.pkl')\n",
    "\n"
   ]
  },
  {
   "cell_type": "raw",
   "id": "14a06ff6-d60d-4521-b220-6ac7337356f2",
   "metadata": {},
   "source": [
    "#Gradient boosting classifier"
   ]
  },
  {
   "cell_type": "code",
   "execution_count": 4,
   "id": "13699841-e676-40c1-a41e-6e3c3df7e5dd",
   "metadata": {},
   "outputs": [
    {
     "name": "stdout",
     "output_type": "stream",
     "text": [
      "Gradient Boosting Accuracy: 0.7814836112708453\n"
     ]
    },
    {
     "data": {
      "text/plain": [
       "['gb_classifier.pkl']"
      ]
     },
     "execution_count": 4,
     "metadata": {},
     "output_type": "execute_result"
    }
   ],
   "source": [
    "from sklearn.ensemble import GradientBoostingClassifier\n",
    "\n",
    "\n",
    "# Train Gradient Boosting classifier\n",
    "gb_clf = GradientBoostingClassifier(random_state=42)\n",
    "gb_clf.fit(X_train, y_train)\n",
    "\n",
    "# Evaluate Gradient Boosting classifier\n",
    "y_pred = gb_clf.predict(X_val)\n",
    "gb_accuracy = accuracy_score(y_val, y_pred)\n",
    "print(f\"Gradient Boosting Accuracy: {gb_accuracy}\")\n",
    "\n",
    "# Save the model\n",
    "joblib.dump(gb_clf, 'gb_classifier.pkl')\n"
   ]
  },
  {
   "cell_type": "raw",
   "id": "b4efd043-6b21-46b9-9518-df640ff422f1",
   "metadata": {},
   "source": [
    "# Support Vector classifier"
   ]
  },
  {
   "cell_type": "code",
   "execution_count": 5,
   "id": "33487dfd-df4e-450d-a18f-e7a45d15b39c",
   "metadata": {},
   "outputs": [
    {
     "name": "stdout",
     "output_type": "stream",
     "text": [
      "SVM Accuracy: 0.5290396779758482\n"
     ]
    },
    {
     "data": {
      "text/plain": [
       "['svm_classifier.pkl']"
      ]
     },
     "execution_count": 5,
     "metadata": {},
     "output_type": "execute_result"
    }
   ],
   "source": [
    "from sklearn.svm import SVC\n",
    "\n",
    "# Train SVM classifier\n",
    "svm_clf = SVC(probability=True, random_state=42)\n",
    "svm_clf.fit(X_train, y_train)\n",
    "\n",
    "# Evaluate SVM classifier\n",
    "y_pred = svm_clf.predict(X_val)\n",
    "svm_accuracy = accuracy_score(y_val, y_pred)\n",
    "print(f\"SVM Accuracy: {svm_accuracy}\")\n",
    "\n",
    "# Save the model\n",
    "joblib.dump(svm_clf, 'svm_classifier.pkl')\n"
   ]
  },
  {
   "cell_type": "code",
   "execution_count": 6,
   "id": "c8364d65-f604-4e45-8268-05684fb3086e",
   "metadata": {},
   "outputs": [
    {
     "name": "stdout",
     "output_type": "stream",
     "text": [
      "Random Forest Accuracy: 0.7901092581943646\n",
      "Logistic Regression Accuracy: 0.7487061529614721\n",
      "Support Vector Classifier Accuracy: 0.5290396779758482\n",
      "Best Classifier: RandomForestClassifier with Accuracy: 0.7901092581943646\n"
     ]
    },
    {
     "data": {
      "image/png": "[encoded data removed]",
      "text/plain": [
       "<Figure size 1000x600 with 1 Axes>"
      ]
     },
     "metadata": {},
     "output_type": "display_data"
    }
   ],
   "source": [
    "import pandas as pd\n",
    "from sklearn.model_selection import train_test_split\n",
    "from sklearn.preprocessing import StandardScaler\n",
    "from sklearn.ensemble import RandomForestClassifier\n",
    "from sklearn.linear_model import LogisticRegression\n",
    "from sklearn.svm import SVC\n",
    "from sklearn.neighbors import KNeighborsClassifier\n",
    "from sklearn.metrics import accuracy_score\n",
    "import joblib\n",
    "import matplotlib.pyplot as plt\n",
    "import seaborn as sns\n",
    "\n",
    "# Load preprocessed training data\n",
    "X = pd.read_csv('preprocessed_train_X.csv')\n",
    "y = pd.read_csv('preprocessed_train_y.csv').squeeze()\n",
    "\n",
    "# Split the data into training and validation sets\n",
    "X_train, X_val, y_train, y_val = train_test_split(X, y, test_size=0.2, random_state=42)\n",
    "\n",
    "# Standardize the data\n",
    "scaler = StandardScaler()\n",
    "X_train = scaler.fit_transform(X_train)\n",
    "X_val = scaler.transform(X_val)\n",
    "\n",
    "# Save the scaler\n",
    "joblib.dump(scaler, 'scaler.pkl')\n",
    "\n",
    "# Define classifiers\n",
    "classifiers = {\n",
    "    'Random Forest': RandomForestClassifier(n_estimators=100, random_state=42),\n",
    "    'Logistic Regression': LogisticRegression(max_iter=1000, random_state=42),\n",
    "    'Support Vector Classifier': SVC(random_state=42),\n",
    "}\n",
    "\n",
    "# Train and evaluate each classifier\n",
    "best_classifier = None\n",
    "best_accuracy = 0\n",
    "results = {}\n",
    "\n",
    "for name, clf in classifiers.items():\n",
    "    clf.fit(X_train, y_train)\n",
    "    y_pred = clf.predict(X_val)\n",
    "    accuracy = accuracy_score(y_val, y_pred)\n",
    "    results[name] = accuracy\n",
    "    \n",
    "    if accuracy > best_accuracy:\n",
    "        best_accuracy = accuracy\n",
    "        best_classifier = clf\n",
    "\n",
    "# Print the results\n",
    "for name, accuracy in results.items():\n",
    "    print(f\"{name} Accuracy: {accuracy}\")\n",
    "\n",
    "print(f\"Best Classifier: {best_classifier.__class__.__name__} with Accuracy: {best_accuracy}\")\n",
    "\n",
    "# Save the best model\n",
    "joblib.dump(best_classifier, 'best_classifier.pkl')\n",
    "\n",
    "# Visualize the results\n",
    "plt.figure(figsize=(10, 6))\n",
    "sns.barplot(x=list(results.keys()), y=list(results.values()))\n",
    "plt.title('Classifier Accuracy Comparison')\n",
    "plt.ylabel('Accuracy')\n",
    "plt.xlabel('Classifier')\n",
    "plt.show()\n"
   ]
  },
  {
   "cell_type": "code",
   "execution_count": 15,
   "id": "0bc6160c-8684-45d8-a685-30380b1f18a4",
   "metadata": {},
   "outputs": [
    {
     "name": "stdout",
     "output_type": "stream",
     "text": [
      "Submission file created and saved as submission.csv\n"
     ]
    }
   ],
   "source": [
    "import pandas as pd\n",
    "import joblib\n",
    "\n",
    "# Load the best classifier\n",
    "best_classifier = joblib.load('best_classifier.pkl')\n",
    "\n",
    "# Load the test dataset\n",
    "test_df = pd.read_csv('test.csv')\n",
    "\n",
    "# Define the columns to fill missing values\n",
    "numerical_columns = ['Age', 'RoomService', 'FoodCourt', 'ShoppingMall', 'Spa', 'VRDeck']\n",
    "categorical_columns = ['HomePlanet', 'CryoSleep', 'Destination', 'VIP', 'Cabin']\n",
    "\n",
    "# Handle missing values for test data\n",
    "for col in numerical_columns:\n",
    "    if col in test_df.columns:\n",
    "        test_df[col].fillna(test_df[col].median(), inplace=True)\n",
    "\n",
    "# Fill missing categorical values with the mode\n",
    "for col in categorical_columns:\n",
    "    if col in test_df.columns:\n",
    "        test_df[col].fillna(test_df[col].mode()[0], inplace=True)\n",
    "\n",
    "# Convert categorical columns to numerical using one-hot encoding\n",
    "test_df = pd.get_dummies(test_df, columns=[col for col in categorical_columns if col in test_df.columns], drop_first=True)\n",
    "\n",
    "# Align test_df with the training data to ensure all columns match\n",
    "# Note: Make sure that the variable X represents the training data's features in your environment\n",
    "test_df = test_df.reindex(columns=X.columns, fill_value=0)\n",
    "\n",
    "# Standardize the test data\n",
    "scaler = joblib.load('scaler.pkl')\n",
    "test_df = scaler.transform(test_df)\n",
    "\n",
    "# Make predictions on the test data\n",
    "test_predictions = best_classifier.predict(test_df)\n",
    "\n",
    "# Load the sample submission file\n",
    "sample_submission = pd.read_csv('sample_submission.csv')\n",
    "\n",
    "# Create the submission file based on the sample submission structure\n",
    "submission = pd.DataFrame({\n",
    "    'PassengerId': sample_submission['PassengerId'],\n",
    "    'Transported': test_predictions\n",
    "})\n",
    "\n",
    "# Ensure the 'Transported' column is of boolean type as required\n",
    "submission['Transported'] = submission['Transported'].astype(bool)\n",
    "\n",
    "# Save the submission file\n",
    "submission.to_csv('submission.csv', index=False)\n",
    "\n",
    "print(\"Submission file created and saved as submission.csv\")\n"
   ]
  },
  {
   "cell_type": "code",
   "execution_count": null,
   "id": "20b049fd",
   "metadata": {},
   "outputs": [],
   "source": []
  }
 ],
 "metadata": {
  "kernelspec": {
   "display_name": "Python 3 (ipykernel)",
   "language": "python",
   "name": "python3"
  },
  "language_info": {
   "codemirror_mode": {
    "name": "ipython",
    "version": 3
   },
   "file_extension": ".py",
   "mimetype": "text/x-python",
   "name": "python",
   "nbconvert_exporter": "python",
   "pygments_lexer": "ipython3",
   "version": "3.10.9"
  }
 },
 "nbformat": 4,
 "nbformat_minor": 5
}
